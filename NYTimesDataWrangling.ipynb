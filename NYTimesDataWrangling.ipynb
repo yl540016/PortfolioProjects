{
  "nbformat": 4,
  "nbformat_minor": 0,
  "metadata": {
    "colab": {
      "provenance": [],
      "authorship_tag": "ABX9TyNzhK8Se1tsQ/vmGHxkMtkF",
      "include_colab_link": true
    },
    "kernelspec": {
      "name": "python3",
      "display_name": "Python 3"
    },
    "language_info": {
      "name": "python"
    }
  },
  "cells": [
    {
      "cell_type": "markdown",
      "metadata": {
        "id": "view-in-github",
        "colab_type": "text"
      },
      "source": [
        "<a href=\"https://colab.research.google.com/github/yl540016/PortfolioProjects/blob/main/NYTimesDataWrangling.ipynb\" target=\"_parent\"><img src=\"https://colab.research.google.com/assets/colab-badge.svg\" alt=\"Open In Colab\"/></a>"
      ]
    },
    {
      "cell_type": "code",
      "execution_count": 1,
      "metadata": {
        "id": "a7Qfw5D6bb8V"
      },
      "outputs": [],
      "source": [
        "import pandas as pd"
      ]
    },
    {
      "cell_type": "code",
      "source": [
        "df_nyt = pd.read_csv('./nyt_2022_9.csv')"
      ],
      "metadata": {
        "id": "VBS3Ln41bzZM"
      },
      "execution_count": 2,
      "outputs": []
    },
    {
      "cell_type": "code",
      "source": [
        "# Check the number of rows and columns\n",
        "  # row - records\n",
        "  # column - variables\n",
        "df_nyt.shape"
      ],
      "metadata": {
        "colab": {
          "base_uri": "https://localhost:8080/"
        },
        "id": "sl5RCXpJb6eS",
        "outputId": "229e49c6-922b-4901-de99-8bf48cdc844a"
      },
      "execution_count": 4,
      "outputs": [
        {
          "output_type": "execute_result",
          "data": {
            "text/plain": [
              "(3766, 1373)"
            ]
          },
          "metadata": {},
          "execution_count": 4
        }
      ]
    },
    {
      "cell_type": "code",
      "source": [
        "# Print the list of columns\n",
        "df_nyt.columns"
      ],
      "metadata": {
        "colab": {
          "base_uri": "https://localhost:8080/"
        },
        "id": "Yz39acUecB8E",
        "outputId": "fbfcda1b-993c-4554-a0a4-dc43e22cab0d"
      },
      "execution_count": 5,
      "outputs": [
        {
          "output_type": "execute_result",
          "data": {
            "text/plain": [
              "Index(['abstract', 'source', 'web_url', 'lead_paragraph', 'pub_date',\n",
              "       'news_desk', 'section_name', 'word_count', 'uri', 'authors',\n",
              "       ...\n",
              "       'kw-Eurozone', 'kw-Centers for Medicare and Medicaid Services',\n",
              "       'kw-Bushwick (Brooklyn, NY)', 'kw-Midwestern States (US)',\n",
              "       'kw-Capitalism (Theory and Philosophy)',\n",
              "       'kw-Port Authority of New York and New Jersey', 'kw-WhatsApp Inc',\n",
              "       'kw-Federal Emergency Management Agency', 'kw-Geology',\n",
              "       'kw-United States Air Force'],\n",
              "      dtype='object', length=1373)"
            ]
          },
          "metadata": {},
          "execution_count": 5
        }
      ]
    },
    {
      "cell_type": "code",
      "source": [
        "df_nyt.head(2)"
      ],
      "metadata": {
        "colab": {
          "base_uri": "https://localhost:8080/",
          "height": 500
        },
        "id": "mXR8ffvNcF5U",
        "outputId": "58bca770-c7d6-44c5-aa14-dae338c37d28"
      },
      "execution_count": 7,
      "outputs": [
        {
          "output_type": "execute_result",
          "data": {
            "text/plain": [
              "                                            abstract              source  \\\n",
              "0  Have we simply become inured to police shootin...  The New York Times   \n",
              "1  Ms. Peltola notched a major upset against Ms. ...  The New York Times   \n",
              "\n",
              "                                             web_url  \\\n",
              "0  https://www.nytimes.com/2022/08/31/opinion/def...   \n",
              "1  https://www.nytimes.com/2022/08/31/us/politics...   \n",
              "\n",
              "                                      lead_paragraph  \\\n",
              "0                             Some said it was dumb.   \n",
              "1  In an upset with the potential to reverberate ...   \n",
              "\n",
              "                   pub_date news_desk section_name  word_count  \\\n",
              "0  2022-09-01T00:09:05+0000      OpEd      Opinion         863   \n",
              "1  2022-09-01T00:15:51+0000  Politics         U.S.        1163   \n",
              "\n",
              "                                                 uri          authors  ...  \\\n",
              "0  nyt://article/9bcc81a7-7555-50b3-af1c-0743bd82...          Charles  ...   \n",
              "1  nyt://article/ee36e5da-abd1-5596-a53e-e33f0648...  Blake Hounshell  ...   \n",
              "\n",
              "   kw-Eurozone  kw-Centers for Medicare and Medicaid Services  \\\n",
              "0            0                                              0   \n",
              "1            0                                              0   \n",
              "\n",
              "   kw-Bushwick (Brooklyn, NY)  kw-Midwestern States (US)  \\\n",
              "0                           0                          0   \n",
              "1                           0                          0   \n",
              "\n",
              "   kw-Capitalism (Theory and Philosophy)  \\\n",
              "0                                      0   \n",
              "1                                      0   \n",
              "\n",
              "   kw-Port Authority of New York and New Jersey  kw-WhatsApp Inc  \\\n",
              "0                                             0                0   \n",
              "1                                             0                0   \n",
              "\n",
              "   kw-Federal Emergency Management Agency  kw-Geology  \\\n",
              "0                                       0           0   \n",
              "1                                       0           0   \n",
              "\n",
              "   kw-United States Air Force  \n",
              "0                           0  \n",
              "1                           0  \n",
              "\n",
              "[2 rows x 1373 columns]"
            ],
            "text/html": [
              "\n",
              "  <div id=\"df-0519d642-1d32-4015-9be0-4e0b25813179\">\n",
              "    <div class=\"colab-df-container\">\n",
              "      <div>\n",
              "<style scoped>\n",
              "    .dataframe tbody tr th:only-of-type {\n",
              "        vertical-align: middle;\n",
              "    }\n",
              "\n",
              "    .dataframe tbody tr th {\n",
              "        vertical-align: top;\n",
              "    }\n",
              "\n",
              "    .dataframe thead th {\n",
              "        text-align: right;\n",
              "    }\n",
              "</style>\n",
              "<table border=\"1\" class=\"dataframe\">\n",
              "  <thead>\n",
              "    <tr style=\"text-align: right;\">\n",
              "      <th></th>\n",
              "      <th>abstract</th>\n",
              "      <th>source</th>\n",
              "      <th>web_url</th>\n",
              "      <th>lead_paragraph</th>\n",
              "      <th>pub_date</th>\n",
              "      <th>news_desk</th>\n",
              "      <th>section_name</th>\n",
              "      <th>word_count</th>\n",
              "      <th>uri</th>\n",
              "      <th>authors</th>\n",
              "      <th>...</th>\n",
              "      <th>kw-Eurozone</th>\n",
              "      <th>kw-Centers for Medicare and Medicaid Services</th>\n",
              "      <th>kw-Bushwick (Brooklyn, NY)</th>\n",
              "      <th>kw-Midwestern States (US)</th>\n",
              "      <th>kw-Capitalism (Theory and Philosophy)</th>\n",
              "      <th>kw-Port Authority of New York and New Jersey</th>\n",
              "      <th>kw-WhatsApp Inc</th>\n",
              "      <th>kw-Federal Emergency Management Agency</th>\n",
              "      <th>kw-Geology</th>\n",
              "      <th>kw-United States Air Force</th>\n",
              "    </tr>\n",
              "  </thead>\n",
              "  <tbody>\n",
              "    <tr>\n",
              "      <th>0</th>\n",
              "      <td>Have we simply become inured to police shootin...</td>\n",
              "      <td>The New York Times</td>\n",
              "      <td>https://www.nytimes.com/2022/08/31/opinion/def...</td>\n",
              "      <td>Some said it was dumb.</td>\n",
              "      <td>2022-09-01T00:09:05+0000</td>\n",
              "      <td>OpEd</td>\n",
              "      <td>Opinion</td>\n",
              "      <td>863</td>\n",
              "      <td>nyt://article/9bcc81a7-7555-50b3-af1c-0743bd82...</td>\n",
              "      <td>Charles</td>\n",
              "      <td>...</td>\n",
              "      <td>0</td>\n",
              "      <td>0</td>\n",
              "      <td>0</td>\n",
              "      <td>0</td>\n",
              "      <td>0</td>\n",
              "      <td>0</td>\n",
              "      <td>0</td>\n",
              "      <td>0</td>\n",
              "      <td>0</td>\n",
              "      <td>0</td>\n",
              "    </tr>\n",
              "    <tr>\n",
              "      <th>1</th>\n",
              "      <td>Ms. Peltola notched a major upset against Ms. ...</td>\n",
              "      <td>The New York Times</td>\n",
              "      <td>https://www.nytimes.com/2022/08/31/us/politics...</td>\n",
              "      <td>In an upset with the potential to reverberate ...</td>\n",
              "      <td>2022-09-01T00:15:51+0000</td>\n",
              "      <td>Politics</td>\n",
              "      <td>U.S.</td>\n",
              "      <td>1163</td>\n",
              "      <td>nyt://article/ee36e5da-abd1-5596-a53e-e33f0648...</td>\n",
              "      <td>Blake Hounshell</td>\n",
              "      <td>...</td>\n",
              "      <td>0</td>\n",
              "      <td>0</td>\n",
              "      <td>0</td>\n",
              "      <td>0</td>\n",
              "      <td>0</td>\n",
              "      <td>0</td>\n",
              "      <td>0</td>\n",
              "      <td>0</td>\n",
              "      <td>0</td>\n",
              "      <td>0</td>\n",
              "    </tr>\n",
              "  </tbody>\n",
              "</table>\n",
              "<p>2 rows × 1373 columns</p>\n",
              "</div>\n",
              "      <button class=\"colab-df-convert\" onclick=\"convertToInteractive('df-0519d642-1d32-4015-9be0-4e0b25813179')\"\n",
              "              title=\"Convert this dataframe to an interactive table.\"\n",
              "              style=\"display:none;\">\n",
              "        \n",
              "  <svg xmlns=\"http://www.w3.org/2000/svg\" height=\"24px\"viewBox=\"0 0 24 24\"\n",
              "       width=\"24px\">\n",
              "    <path d=\"M0 0h24v24H0V0z\" fill=\"none\"/>\n",
              "    <path d=\"M18.56 5.44l.94 2.06.94-2.06 2.06-.94-2.06-.94-.94-2.06-.94 2.06-2.06.94zm-11 1L8.5 8.5l.94-2.06 2.06-.94-2.06-.94L8.5 2.5l-.94 2.06-2.06.94zm10 10l.94 2.06.94-2.06 2.06-.94-2.06-.94-.94-2.06-.94 2.06-2.06.94z\"/><path d=\"M17.41 7.96l-1.37-1.37c-.4-.4-.92-.59-1.43-.59-.52 0-1.04.2-1.43.59L10.3 9.45l-7.72 7.72c-.78.78-.78 2.05 0 2.83L4 21.41c.39.39.9.59 1.41.59.51 0 1.02-.2 1.41-.59l7.78-7.78 2.81-2.81c.8-.78.8-2.07 0-2.86zM5.41 20L4 18.59l7.72-7.72 1.47 1.35L5.41 20z\"/>\n",
              "  </svg>\n",
              "      </button>\n",
              "      \n",
              "  <style>\n",
              "    .colab-df-container {\n",
              "      display:flex;\n",
              "      flex-wrap:wrap;\n",
              "      gap: 12px;\n",
              "    }\n",
              "\n",
              "    .colab-df-convert {\n",
              "      background-color: #E8F0FE;\n",
              "      border: none;\n",
              "      border-radius: 50%;\n",
              "      cursor: pointer;\n",
              "      display: none;\n",
              "      fill: #1967D2;\n",
              "      height: 32px;\n",
              "      padding: 0 0 0 0;\n",
              "      width: 32px;\n",
              "    }\n",
              "\n",
              "    .colab-df-convert:hover {\n",
              "      background-color: #E2EBFA;\n",
              "      box-shadow: 0px 1px 2px rgba(60, 64, 67, 0.3), 0px 1px 3px 1px rgba(60, 64, 67, 0.15);\n",
              "      fill: #174EA6;\n",
              "    }\n",
              "\n",
              "    [theme=dark] .colab-df-convert {\n",
              "      background-color: #3B4455;\n",
              "      fill: #D2E3FC;\n",
              "    }\n",
              "\n",
              "    [theme=dark] .colab-df-convert:hover {\n",
              "      background-color: #434B5C;\n",
              "      box-shadow: 0px 1px 3px 1px rgba(0, 0, 0, 0.15);\n",
              "      filter: drop-shadow(0px 1px 2px rgba(0, 0, 0, 0.3));\n",
              "      fill: #FFFFFF;\n",
              "    }\n",
              "  </style>\n",
              "\n",
              "      <script>\n",
              "        const buttonEl =\n",
              "          document.querySelector('#df-0519d642-1d32-4015-9be0-4e0b25813179 button.colab-df-convert');\n",
              "        buttonEl.style.display =\n",
              "          google.colab.kernel.accessAllowed ? 'block' : 'none';\n",
              "\n",
              "        async function convertToInteractive(key) {\n",
              "          const element = document.querySelector('#df-0519d642-1d32-4015-9be0-4e0b25813179');\n",
              "          const dataTable =\n",
              "            await google.colab.kernel.invokeFunction('convertToInteractive',\n",
              "                                                     [key], {});\n",
              "          if (!dataTable) return;\n",
              "\n",
              "          const docLinkHtml = 'Like what you see? Visit the ' +\n",
              "            '<a target=\"_blank\" href=https://colab.research.google.com/notebooks/data_table.ipynb>data table notebook</a>'\n",
              "            + ' to learn more about interactive tables.';\n",
              "          element.innerHTML = '';\n",
              "          dataTable['output_type'] = 'display_data';\n",
              "          await google.colab.output.renderOutput(dataTable, element);\n",
              "          const docLink = document.createElement('div');\n",
              "          docLink.innerHTML = docLinkHtml;\n",
              "          element.appendChild(docLink);\n",
              "        }\n",
              "      </script>\n",
              "    </div>\n",
              "  </div>\n",
              "  "
            ]
          },
          "metadata": {},
          "execution_count": 7
        }
      ]
    },
    {
      "cell_type": "code",
      "source": [
        "# check the missing proportion of the data\n",
        "missing_prop = (df_nyt.isna().sum(axis=1) != 0).mean()\n",
        "missing_prop"
      ],
      "metadata": {
        "colab": {
          "base_uri": "https://localhost:8080/"
        },
        "id": "gg3DnoYhcI86",
        "outputId": "575e0665-b9be-4bbd-c0bd-75a1ed0119c3"
      },
      "execution_count": 8,
      "outputs": [
        {
          "output_type": "execute_result",
          "data": {
            "text/plain": [
              "0.12719065321295805"
            ]
          },
          "metadata": {},
          "execution_count": 8
        }
      ]
    },
    {
      "cell_type": "code",
      "source": [
        "# remove data with missing components\n",
        "df_complete = df_nyt.dropna().reset_index()\n",
        "# and store new dataframe that doesn't include any missing data\n",
        "df_complete.shape"
      ],
      "metadata": {
        "colab": {
          "base_uri": "https://localhost:8080/"
        },
        "id": "7K9LqjMhcPX5",
        "outputId": "8a68f498-a2e5-416e-efdb-2c529496a67c"
      },
      "execution_count": 9,
      "outputs": [
        {
          "output_type": "execute_result",
          "data": {
            "text/plain": [
              "(3287, 1374)"
            ]
          },
          "metadata": {},
          "execution_count": 9
        }
      ]
    },
    {
      "cell_type": "code",
      "source": [
        "# check duplicated records\n",
        "df_complete.duplicated().sum()"
      ],
      "metadata": {
        "colab": {
          "base_uri": "https://localhost:8080/"
        },
        "id": "L5ZSoW9gdzfP",
        "outputId": "7d1202ae-b81c-42f7-f8a1-4b05e16d28bc"
      },
      "execution_count": 10,
      "outputs": [
        {
          "output_type": "execute_result",
          "data": {
            "text/plain": [
              "0"
            ]
          },
          "metadata": {},
          "execution_count": 10
        }
      ]
    },
    {
      "cell_type": "code",
      "source": [
        "# check if there's a column st every value in the column is equal\n",
        "unique_column_list=[]\n",
        "for col in df_complete.columns:\n",
        "  if len(df_complete[col].unique()) == 1:\n",
        "    unique_column_list.append(col)\n",
        "\n",
        "print(f'List of columns with unique value: \\n{unique_column_list}')\n",
        "print(f'Number of unique columns: {len(unique_column_list)}')"
      ],
      "metadata": {
        "colab": {
          "base_uri": "https://localhost:8080/"
        },
        "id": "EmAzpMZ3d5rk",
        "outputId": "7293a5f9-12a2-42c1-ee82-9fae466acf8e"
      },
      "execution_count": 15,
      "outputs": [
        {
          "output_type": "stream",
          "name": "stdout",
          "text": [
            "List of columns with unique value: \n",
            "['source', 'kw-Republican National Committee', 'kw-Pfizer Inc', 'kw-Chronic Traumatic Encephalopathy', 'kw-Jury System', 'kw-Mosques', 'kw-United States Coast Guard', 'kw-Boats and Boating', 'kw-Modern Love (Times Column)', 'kw-Israeli Settlements', 'kw-Evictions', 'kw-Jerusalem (Israel)', 'kw-Romania', 'kw-Boeing Company', 'kw-Pence, Mike', 'kw-Public Theater', 'kw-New York Knicks', 'kw-Poisoning and Poisons', 'kw-Cruz, Ted', 'kw-Engineering and Engineers', 'kw-Pittsburgh (Pa)', 'kw-Hermes International SA', 'kw-Warren, Elizabeth', 'kw-Plastics', 'kw-Recycling of Waste Materials', 'kw-Maduro, Nicolas', 'kw-Perfumes and Fragrances', 'kw-Woods, Tiger', 'kw-Civil War (US) (1861-65)', 'kw-SoHo (Manhattan, NY)', 'kw-Eggs', 'kw-Baby Boomers', 'kw-Veganism', 'kw-Cattle', 'kw-Cosmetics and Toiletries', 'kw-East Village (Manhattan, NY)', 'kw-Pain-Relieving Drugs', 'kw-Collectors and Collections', 'kw-Explosions (Accidental)', 'kw-Nigeria', 'kw-Bombs and Explosives', 'kw-Executives and Management (Theory)', 'kw-Boycotts', 'kw-LVMH Moet Hennessy Louis Vuitton SA', 'kw-Comey, James B', 'kw-Savings', 'kw-Carnegie Hall', 'kw-Alphabet Inc', 'kw-Vance, Cyrus R Jr', 'kw-Wells Fargo & Company', 'kw-Vermont', 'kw-Media', 'kw-Cheese', 'kw-Reality Television', 'kw-Smithsonian Institution', 'kw-Booker, Cory A', 'kw-Cloud Computing', 'kw-Nobel Prizes', 'kw-Smoking and Tobacco', 'kw-Veterans Affairs Department', 'kw-Murdoch, Rupert', 'kw-Visas', 'kw-Netanyahu, Benjamin', 'kw-Tony Awards (Theater Awards)', 'kw-Austria', 'kw-Fuel Efficiency', 'kw-Apologies', 'kw-Hockey, Ice', 'kw-National Hockey League', 'kw-King, Martin Luther Jr', 'kw-Family Business', 'kw-Crown Heights (Brooklyn, NY)', 'kw-Hedge Funds', 'kw-Names, Geographical', 'kw-Federal Lands', 'kw-Interior Department', 'kw-Shabab', 'kw-Military Bases and Installations', 'kw-Health and Human Services Department', 'kw-Title IX (Gender Discrimination Legislation)', 'kw-Denver (Colo)', 'kw-Alibaba Group Holding Ltd', 'kw-Trademarks and Trade Names', 'kw-City Councils', 'kw-Churches (Buildings)', 'kw-Laboratories and Scientific Equipment', 'kw-Chinatown (Manhattan, NY)', 'kw-AMNESTY INTERNATIONAL', 'kw-Assad, Bashar al-', 'kw-Names, Organizational', 'kw-Insurance', 'kw-Mexico City (Mexico)', 'kw-Ice Cream and Frozen Desserts', 'kw-ESPN', 'kw-Elections, Mayors', 'kw-Sanders, Bernard', 'kw-Austin (Tex)', 'kw-Telephones and Telecommunications', 'kw-Serial Murders', 'kw-Meditation', 'kw-Extradition', 'kw-WikiLeaks', 'kw-Charter Schools', 'kw-Sudan', 'kw-E-Mail', 'kw-Holidays and Special Occasions', 'kw-Free Agents (Sports)', 'kw-Delta Air Lines Inc', 'kw-Roosevelt, Franklin Delano', 'kw-AMSTERDAM (NETHERLANDS)', 'kw-Fox Broadcasting Co', 'kw-Gifts', 'kw-Addiction (Psychology)', 'kw-Vocational Training', 'kw-National Park Service', 'kw-Silicon Valley (Calif)', 'kw-Copyrights and Copyright Violations', 'kw-Missouri', 'kw-Sydney (Australia)', 'kw-MSNBC', 'kw-Washington Post', 'kw-United States Marine Corps', 'kw-Rohingya (Ethnic Group)', 'kw-Toronto (Ontario)', 'kw-Warhol, Andy', 'kw-Space Exploration Technologies Corp', 'kw-Beauty (Concept)', 'kw-Tokyo (Japan)', 'kw-Constitutional Amendments', 'kw-Taxicabs and Taxicab Drivers', 'kw-New-York Historical Society', 'kw-Nebraska', 'kw-Ohio State University', 'kw-Doping (Sports)', 'kw-Houthis', 'kw-Blogs and Blogging (Internet)', 'kw-Social Conditions and Trends', 'kw-Identification Devices', 'kw-Stadiums and Arenas', 'kw-ABC INC', 'kw-Walmart Stores Inc', 'kw-Merkel, Angela', 'kw-Chinese Food (Cuisine)', 'kw-New England Journal of Medicine', 'kw-Libya', 'kw-ADVERTISING AND MARKETING', 'kw-Ghani, Ashraf', 'kw-Shopping Centers and Malls', 'kw-AMAZON.COM INC', 'kw-ACTORS AND ACTRESSES', 'kw-Automobile Racing', 'kw-Executive Compensation', 'kw-Federal Communications Commission', 'kw-ANIMALS', 'kw-Sugar', 'kw-Voter Registration and Requirements', 'kw-ADMISSIONS STANDARDS', 'kw-ANTI-SEMITISM', 'kw-Elephants', 'kw-ARIZONA', 'kw-Hezbollah', 'kw-Targeted Killings', 'kw-Drug Enforcement Administration', 'kw-Ears and Hearing', 'kw-Chemicals', 'kw-AIRPORTS', 'kw-New York Rangers', 'kw-Chocolate', 'kw-Housing and Urban Development Department', 'kw-ALABAMA', 'kw-ABORTION', 'kw-Cholesterol', 'kw-Vitamins', 'kw-Montreal (Quebec)', 'kw-ARMS CONTROL AND LIMITATION AND DISARMAMENT', 'kw-Hitler, Adolf', 'kw-ALCOHOLIC BEVERAGES', 'kw-Long Island City (Queens, NY)', 'kw-Tax Shelters', 'kw-Mao Zedong', 'kw-Deutsche Bank AG', 'kw-Drug Cartels', 'kw-Centers for Medicare and Medicaid Services', 'kw-Bushwick (Brooklyn, NY)', 'kw-Midwestern States (US)']\n",
            "Number of unique columns: 185\n"
          ]
        }
      ]
    },
    {
      "cell_type": "code",
      "source": [
        "# Create a list that includes every keyword-column \n",
        "keyword_column_list=[col for col in df_complete.columns if col.startswith('kw-')]\n",
        "\n",
        "# Print the total num of keyword-columns\n",
        "print('The number of keywords: ', len(keyword_column_list))"
      ],
      "metadata": {
        "colab": {
          "base_uri": "https://localhost:8080/"
        },
        "id": "sgVAhsICeDP_",
        "outputId": "86a84eb0-8c9d-4213-b078-8b0454ff0659"
      },
      "execution_count": 16,
      "outputs": [
        {
          "output_type": "stream",
          "name": "stdout",
          "text": [
            "The number of keywords:  1363\n"
          ]
        }
      ]
    },
    {
      "cell_type": "code",
      "source": [
        "# If the number of keyword-columns is greater than 1300, then create a new data frame\n",
        "# From df, remove every column in df except for ['abstract','pub_date', 'news_desk','word_count','authors']\n",
        "\n",
        "if len(keyword_column_list) > 1300:\n",
        "  df_nyt_without_kw=df_complete.loc[:,['abstract','pub_date','news_desk','word_count','authors']]\n",
        "else:\n",
        "  df_nyt_without_kw=df_complete\n",
        "df_nyt_without_kw.head()"
      ],
      "metadata": {
        "colab": {
          "base_uri": "https://localhost:8080/",
          "height": 206
        },
        "id": "jNQClmpGeV_z",
        "outputId": "f452a829-1e16-42c6-a974-3ea8cc796700"
      },
      "execution_count": 17,
      "outputs": [
        {
          "output_type": "execute_result",
          "data": {
            "text/plain": [
              "                                            abstract  \\\n",
              "0  Have we simply become inured to police shootin...   \n",
              "1  Ms. Peltola notched a major upset against Ms. ...   \n",
              "2  Mr. Gorbachev was charming and presented himse...   \n",
              "3  Limits were placed on high-end GPUs that power...   \n",
              "4  If two nights earlier was about posterity and ...   \n",
              "\n",
              "                   pub_date   news_desk  word_count                authors  \n",
              "0  2022-09-01T00:09:05+0000        OpEd         863                Charles  \n",
              "1  2022-09-01T00:15:51+0000    Politics        1163        Blake Hounshell  \n",
              "2  2022-09-01T00:23:50+0000  Washington        1354            Peter Baker  \n",
              "3  2022-09-01T01:14:31+0000    Business         814  Don Clark;Ana Swanson  \n",
              "4  2022-09-01T01:45:29+0000      Sports        1200      Matthew Futterman  "
            ],
            "text/html": [
              "\n",
              "  <div id=\"df-1057d302-a9d0-41dd-9e1a-b8e1b3f440bd\">\n",
              "    <div class=\"colab-df-container\">\n",
              "      <div>\n",
              "<style scoped>\n",
              "    .dataframe tbody tr th:only-of-type {\n",
              "        vertical-align: middle;\n",
              "    }\n",
              "\n",
              "    .dataframe tbody tr th {\n",
              "        vertical-align: top;\n",
              "    }\n",
              "\n",
              "    .dataframe thead th {\n",
              "        text-align: right;\n",
              "    }\n",
              "</style>\n",
              "<table border=\"1\" class=\"dataframe\">\n",
              "  <thead>\n",
              "    <tr style=\"text-align: right;\">\n",
              "      <th></th>\n",
              "      <th>abstract</th>\n",
              "      <th>pub_date</th>\n",
              "      <th>news_desk</th>\n",
              "      <th>word_count</th>\n",
              "      <th>authors</th>\n",
              "    </tr>\n",
              "  </thead>\n",
              "  <tbody>\n",
              "    <tr>\n",
              "      <th>0</th>\n",
              "      <td>Have we simply become inured to police shootin...</td>\n",
              "      <td>2022-09-01T00:09:05+0000</td>\n",
              "      <td>OpEd</td>\n",
              "      <td>863</td>\n",
              "      <td>Charles</td>\n",
              "    </tr>\n",
              "    <tr>\n",
              "      <th>1</th>\n",
              "      <td>Ms. Peltola notched a major upset against Ms. ...</td>\n",
              "      <td>2022-09-01T00:15:51+0000</td>\n",
              "      <td>Politics</td>\n",
              "      <td>1163</td>\n",
              "      <td>Blake Hounshell</td>\n",
              "    </tr>\n",
              "    <tr>\n",
              "      <th>2</th>\n",
              "      <td>Mr. Gorbachev was charming and presented himse...</td>\n",
              "      <td>2022-09-01T00:23:50+0000</td>\n",
              "      <td>Washington</td>\n",
              "      <td>1354</td>\n",
              "      <td>Peter Baker</td>\n",
              "    </tr>\n",
              "    <tr>\n",
              "      <th>3</th>\n",
              "      <td>Limits were placed on high-end GPUs that power...</td>\n",
              "      <td>2022-09-01T01:14:31+0000</td>\n",
              "      <td>Business</td>\n",
              "      <td>814</td>\n",
              "      <td>Don Clark;Ana Swanson</td>\n",
              "    </tr>\n",
              "    <tr>\n",
              "      <th>4</th>\n",
              "      <td>If two nights earlier was about posterity and ...</td>\n",
              "      <td>2022-09-01T01:45:29+0000</td>\n",
              "      <td>Sports</td>\n",
              "      <td>1200</td>\n",
              "      <td>Matthew Futterman</td>\n",
              "    </tr>\n",
              "  </tbody>\n",
              "</table>\n",
              "</div>\n",
              "      <button class=\"colab-df-convert\" onclick=\"convertToInteractive('df-1057d302-a9d0-41dd-9e1a-b8e1b3f440bd')\"\n",
              "              title=\"Convert this dataframe to an interactive table.\"\n",
              "              style=\"display:none;\">\n",
              "        \n",
              "  <svg xmlns=\"http://www.w3.org/2000/svg\" height=\"24px\"viewBox=\"0 0 24 24\"\n",
              "       width=\"24px\">\n",
              "    <path d=\"M0 0h24v24H0V0z\" fill=\"none\"/>\n",
              "    <path d=\"M18.56 5.44l.94 2.06.94-2.06 2.06-.94-2.06-.94-.94-2.06-.94 2.06-2.06.94zm-11 1L8.5 8.5l.94-2.06 2.06-.94-2.06-.94L8.5 2.5l-.94 2.06-2.06.94zm10 10l.94 2.06.94-2.06 2.06-.94-2.06-.94-.94-2.06-.94 2.06-2.06.94z\"/><path d=\"M17.41 7.96l-1.37-1.37c-.4-.4-.92-.59-1.43-.59-.52 0-1.04.2-1.43.59L10.3 9.45l-7.72 7.72c-.78.78-.78 2.05 0 2.83L4 21.41c.39.39.9.59 1.41.59.51 0 1.02-.2 1.41-.59l7.78-7.78 2.81-2.81c.8-.78.8-2.07 0-2.86zM5.41 20L4 18.59l7.72-7.72 1.47 1.35L5.41 20z\"/>\n",
              "  </svg>\n",
              "      </button>\n",
              "      \n",
              "  <style>\n",
              "    .colab-df-container {\n",
              "      display:flex;\n",
              "      flex-wrap:wrap;\n",
              "      gap: 12px;\n",
              "    }\n",
              "\n",
              "    .colab-df-convert {\n",
              "      background-color: #E8F0FE;\n",
              "      border: none;\n",
              "      border-radius: 50%;\n",
              "      cursor: pointer;\n",
              "      display: none;\n",
              "      fill: #1967D2;\n",
              "      height: 32px;\n",
              "      padding: 0 0 0 0;\n",
              "      width: 32px;\n",
              "    }\n",
              "\n",
              "    .colab-df-convert:hover {\n",
              "      background-color: #E2EBFA;\n",
              "      box-shadow: 0px 1px 2px rgba(60, 64, 67, 0.3), 0px 1px 3px 1px rgba(60, 64, 67, 0.15);\n",
              "      fill: #174EA6;\n",
              "    }\n",
              "\n",
              "    [theme=dark] .colab-df-convert {\n",
              "      background-color: #3B4455;\n",
              "      fill: #D2E3FC;\n",
              "    }\n",
              "\n",
              "    [theme=dark] .colab-df-convert:hover {\n",
              "      background-color: #434B5C;\n",
              "      box-shadow: 0px 1px 3px 1px rgba(0, 0, 0, 0.15);\n",
              "      filter: drop-shadow(0px 1px 2px rgba(0, 0, 0, 0.3));\n",
              "      fill: #FFFFFF;\n",
              "    }\n",
              "  </style>\n",
              "\n",
              "      <script>\n",
              "        const buttonEl =\n",
              "          document.querySelector('#df-1057d302-a9d0-41dd-9e1a-b8e1b3f440bd button.colab-df-convert');\n",
              "        buttonEl.style.display =\n",
              "          google.colab.kernel.accessAllowed ? 'block' : 'none';\n",
              "\n",
              "        async function convertToInteractive(key) {\n",
              "          const element = document.querySelector('#df-1057d302-a9d0-41dd-9e1a-b8e1b3f440bd');\n",
              "          const dataTable =\n",
              "            await google.colab.kernel.invokeFunction('convertToInteractive',\n",
              "                                                     [key], {});\n",
              "          if (!dataTable) return;\n",
              "\n",
              "          const docLinkHtml = 'Like what you see? Visit the ' +\n",
              "            '<a target=\"_blank\" href=https://colab.research.google.com/notebooks/data_table.ipynb>data table notebook</a>'\n",
              "            + ' to learn more about interactive tables.';\n",
              "          element.innerHTML = '';\n",
              "          dataTable['output_type'] = 'display_data';\n",
              "          await google.colab.output.renderOutput(dataTable, element);\n",
              "          const docLink = document.createElement('div');\n",
              "          docLink.innerHTML = docLinkHtml;\n",
              "          element.appendChild(docLink);\n",
              "        }\n",
              "      </script>\n",
              "    </div>\n",
              "  </div>\n",
              "  "
            ]
          },
          "metadata": {},
          "execution_count": 17
        }
      ]
    },
    {
      "cell_type": "code",
      "source": [
        "# Change 'pub_date' col data type to pandas datetime \n",
        "df_nyt_without_kw['pub_date'] = pd.to_datetime(df_nyt_without_kw['pub_date'])\n",
        "\n",
        "# Remove every record that is written before 2022-09-21 and store its output\n",
        "df_nyt_without_kw_2022_september=df_nyt_without_kw[df_nyt_without_kw['pub_date'] >= \"2022-09-21\"].reset_index(drop=True)\n",
        "df_nyt_without_kw_2022_september.shape"
      ],
      "metadata": {
        "colab": {
          "base_uri": "https://localhost:8080/"
        },
        "id": "32oxO4TuelcU",
        "outputId": "7f2679ba-6d78-4bb8-a3df-ea1b47fe1e96"
      },
      "execution_count": 18,
      "outputs": [
        {
          "output_type": "execute_result",
          "data": {
            "text/plain": [
              "(980, 5)"
            ]
          },
          "metadata": {},
          "execution_count": 18
        }
      ]
    },
    {
      "cell_type": "code",
      "source": [
        "# Create a new column by taking only the first author\n",
        "df_nyt_without_kw_2022_september['first_author']=df_nyt_without_kw_2022_september['authors'].apply(lambda x: x.split(';')[0])\n",
        "df_nyt_without_kw_2022_september=df_nyt_without_kw_2022_september.drop('authors', axis=1)\n",
        "df_nyt_without_kw_2022_september.head()"
      ],
      "metadata": {
        "colab": {
          "base_uri": "https://localhost:8080/",
          "height": 206
        },
        "id": "5ZAsYK2iez0s",
        "outputId": "75a8ce4f-95af-49cb-c133-277ac31b33cd"
      },
      "execution_count": 19,
      "outputs": [
        {
          "output_type": "execute_result",
          "data": {
            "text/plain": [
              "                                            abstract  \\\n",
              "0  Organizations and officials in New York, a cit...   \n",
              "1  Spending by European companies on new factorie...   \n",
              "2  An underground oil tank makes a mysterious art...   \n",
              "3     Win big with Matthew Stock’s Wednesday puzzle.   \n",
              "4  But first it would help to admit that the bord...   \n",
              "\n",
              "                   pub_date news_desk  word_count    first_author  \n",
              "0 2022-09-21 00:05:52+00:00     Metro         568    Hurubie Meko  \n",
              "1 2022-09-21 00:40:06+00:00  Business         655  Keith Bradsher  \n",
              "2 2022-09-21 01:00:05+00:00   Culture         688     Jori Finkel  \n",
              "3 2022-09-21 02:00:05+00:00     Games         990     Rachel Fabi  \n",
              "4 2022-09-21 02:01:05+00:00      OpEd         885   Bret Stephens  "
            ],
            "text/html": [
              "\n",
              "  <div id=\"df-e2c6df1c-17de-464b-b64e-a5e75f42af0b\">\n",
              "    <div class=\"colab-df-container\">\n",
              "      <div>\n",
              "<style scoped>\n",
              "    .dataframe tbody tr th:only-of-type {\n",
              "        vertical-align: middle;\n",
              "    }\n",
              "\n",
              "    .dataframe tbody tr th {\n",
              "        vertical-align: top;\n",
              "    }\n",
              "\n",
              "    .dataframe thead th {\n",
              "        text-align: right;\n",
              "    }\n",
              "</style>\n",
              "<table border=\"1\" class=\"dataframe\">\n",
              "  <thead>\n",
              "    <tr style=\"text-align: right;\">\n",
              "      <th></th>\n",
              "      <th>abstract</th>\n",
              "      <th>pub_date</th>\n",
              "      <th>news_desk</th>\n",
              "      <th>word_count</th>\n",
              "      <th>first_author</th>\n",
              "    </tr>\n",
              "  </thead>\n",
              "  <tbody>\n",
              "    <tr>\n",
              "      <th>0</th>\n",
              "      <td>Organizations and officials in New York, a cit...</td>\n",
              "      <td>2022-09-21 00:05:52+00:00</td>\n",
              "      <td>Metro</td>\n",
              "      <td>568</td>\n",
              "      <td>Hurubie Meko</td>\n",
              "    </tr>\n",
              "    <tr>\n",
              "      <th>1</th>\n",
              "      <td>Spending by European companies on new factorie...</td>\n",
              "      <td>2022-09-21 00:40:06+00:00</td>\n",
              "      <td>Business</td>\n",
              "      <td>655</td>\n",
              "      <td>Keith Bradsher</td>\n",
              "    </tr>\n",
              "    <tr>\n",
              "      <th>2</th>\n",
              "      <td>An underground oil tank makes a mysterious art...</td>\n",
              "      <td>2022-09-21 01:00:05+00:00</td>\n",
              "      <td>Culture</td>\n",
              "      <td>688</td>\n",
              "      <td>Jori Finkel</td>\n",
              "    </tr>\n",
              "    <tr>\n",
              "      <th>3</th>\n",
              "      <td>Win big with Matthew Stock’s Wednesday puzzle.</td>\n",
              "      <td>2022-09-21 02:00:05+00:00</td>\n",
              "      <td>Games</td>\n",
              "      <td>990</td>\n",
              "      <td>Rachel Fabi</td>\n",
              "    </tr>\n",
              "    <tr>\n",
              "      <th>4</th>\n",
              "      <td>But first it would help to admit that the bord...</td>\n",
              "      <td>2022-09-21 02:01:05+00:00</td>\n",
              "      <td>OpEd</td>\n",
              "      <td>885</td>\n",
              "      <td>Bret Stephens</td>\n",
              "    </tr>\n",
              "  </tbody>\n",
              "</table>\n",
              "</div>\n",
              "      <button class=\"colab-df-convert\" onclick=\"convertToInteractive('df-e2c6df1c-17de-464b-b64e-a5e75f42af0b')\"\n",
              "              title=\"Convert this dataframe to an interactive table.\"\n",
              "              style=\"display:none;\">\n",
              "        \n",
              "  <svg xmlns=\"http://www.w3.org/2000/svg\" height=\"24px\"viewBox=\"0 0 24 24\"\n",
              "       width=\"24px\">\n",
              "    <path d=\"M0 0h24v24H0V0z\" fill=\"none\"/>\n",
              "    <path d=\"M18.56 5.44l.94 2.06.94-2.06 2.06-.94-2.06-.94-.94-2.06-.94 2.06-2.06.94zm-11 1L8.5 8.5l.94-2.06 2.06-.94-2.06-.94L8.5 2.5l-.94 2.06-2.06.94zm10 10l.94 2.06.94-2.06 2.06-.94-2.06-.94-.94-2.06-.94 2.06-2.06.94z\"/><path d=\"M17.41 7.96l-1.37-1.37c-.4-.4-.92-.59-1.43-.59-.52 0-1.04.2-1.43.59L10.3 9.45l-7.72 7.72c-.78.78-.78 2.05 0 2.83L4 21.41c.39.39.9.59 1.41.59.51 0 1.02-.2 1.41-.59l7.78-7.78 2.81-2.81c.8-.78.8-2.07 0-2.86zM5.41 20L4 18.59l7.72-7.72 1.47 1.35L5.41 20z\"/>\n",
              "  </svg>\n",
              "      </button>\n",
              "      \n",
              "  <style>\n",
              "    .colab-df-container {\n",
              "      display:flex;\n",
              "      flex-wrap:wrap;\n",
              "      gap: 12px;\n",
              "    }\n",
              "\n",
              "    .colab-df-convert {\n",
              "      background-color: #E8F0FE;\n",
              "      border: none;\n",
              "      border-radius: 50%;\n",
              "      cursor: pointer;\n",
              "      display: none;\n",
              "      fill: #1967D2;\n",
              "      height: 32px;\n",
              "      padding: 0 0 0 0;\n",
              "      width: 32px;\n",
              "    }\n",
              "\n",
              "    .colab-df-convert:hover {\n",
              "      background-color: #E2EBFA;\n",
              "      box-shadow: 0px 1px 2px rgba(60, 64, 67, 0.3), 0px 1px 3px 1px rgba(60, 64, 67, 0.15);\n",
              "      fill: #174EA6;\n",
              "    }\n",
              "\n",
              "    [theme=dark] .colab-df-convert {\n",
              "      background-color: #3B4455;\n",
              "      fill: #D2E3FC;\n",
              "    }\n",
              "\n",
              "    [theme=dark] .colab-df-convert:hover {\n",
              "      background-color: #434B5C;\n",
              "      box-shadow: 0px 1px 3px 1px rgba(0, 0, 0, 0.15);\n",
              "      filter: drop-shadow(0px 1px 2px rgba(0, 0, 0, 0.3));\n",
              "      fill: #FFFFFF;\n",
              "    }\n",
              "  </style>\n",
              "\n",
              "      <script>\n",
              "        const buttonEl =\n",
              "          document.querySelector('#df-e2c6df1c-17de-464b-b64e-a5e75f42af0b button.colab-df-convert');\n",
              "        buttonEl.style.display =\n",
              "          google.colab.kernel.accessAllowed ? 'block' : 'none';\n",
              "\n",
              "        async function convertToInteractive(key) {\n",
              "          const element = document.querySelector('#df-e2c6df1c-17de-464b-b64e-a5e75f42af0b');\n",
              "          const dataTable =\n",
              "            await google.colab.kernel.invokeFunction('convertToInteractive',\n",
              "                                                     [key], {});\n",
              "          if (!dataTable) return;\n",
              "\n",
              "          const docLinkHtml = 'Like what you see? Visit the ' +\n",
              "            '<a target=\"_blank\" href=https://colab.research.google.com/notebooks/data_table.ipynb>data table notebook</a>'\n",
              "            + ' to learn more about interactive tables.';\n",
              "          element.innerHTML = '';\n",
              "          dataTable['output_type'] = 'display_data';\n",
              "          await google.colab.output.renderOutput(dataTable, element);\n",
              "          const docLink = document.createElement('div');\n",
              "          docLink.innerHTML = docLinkHtml;\n",
              "          element.appendChild(docLink);\n",
              "        }\n",
              "      </script>\n",
              "    </div>\n",
              "  </div>\n",
              "  "
            ]
          },
          "metadata": {},
          "execution_count": 19
        }
      ]
    },
    {
      "cell_type": "markdown",
      "source": [
        "#### **DATA ANALYSIS**"
      ],
      "metadata": {
        "id": "gqYZBgzJfCQg"
      }
    },
    {
      "cell_type": "markdown",
      "source": [
        "Which `news_desk` has the most articles?"
      ],
      "metadata": {
        "id": "SvUh2AHqfL0B"
      }
    },
    {
      "cell_type": "code",
      "source": [
        "df_nyt_without_kw_2022_september['news_desk'].value_counts().index[0]"
      ],
      "metadata": {
        "colab": {
          "base_uri": "https://localhost:8080/",
          "height": 35
        },
        "id": "ak1i5e8ue-eN",
        "outputId": "377ad738-f4f7-4ac7-c31c-bea06a616c6f"
      },
      "execution_count": 20,
      "outputs": [
        {
          "output_type": "execute_result",
          "data": {
            "text/plain": [
              "'Foreign'"
            ],
            "application/vnd.google.colaboratory.intrinsic+json": {
              "type": "string"
            }
          },
          "metadata": {},
          "execution_count": 20
        }
      ]
    },
    {
      "cell_type": "markdown",
      "source": [
        "Who wrote the most articles as the `first_author`?"
      ],
      "metadata": {
        "id": "KLwE3oTQfRhH"
      }
    },
    {
      "cell_type": "code",
      "source": [
        "most_article_author=df_nyt_without_kw_2022_september['first_author'].value_counts().index[0]\n",
        "most_article_author"
      ],
      "metadata": {
        "colab": {
          "base_uri": "https://localhost:8080/",
          "height": 35
        },
        "id": "pcjLgPvKfPdX",
        "outputId": "098b481d-41a2-45bb-9fe4-b9e309213edd"
      },
      "execution_count": 21,
      "outputs": [
        {
          "output_type": "execute_result",
          "data": {
            "text/plain": [
              "'Josh Katz'"
            ],
            "application/vnd.google.colaboratory.intrinsic+json": {
              "type": "string"
            }
          },
          "metadata": {},
          "execution_count": 21
        }
      ]
    },
    {
      "cell_type": "markdown",
      "source": [
        "Who has written the most diverse range of articles in terms of different news desk categories? "
      ],
      "metadata": {
        "id": "VA_zD6wHfjF_"
      }
    },
    {
      "cell_type": "code",
      "source": [
        "df_groupby=df_nyt_without_kw_2022_september.groupby(['first_author'])\n",
        "\n",
        "df_groupby_diverse=df_groupby.apply(lambda sub_df: len(sub_df['news_desk'].value_counts()))\n",
        "\n",
        "print('The most diverse writer is: ', df_groupby_diverse.index[df_groupby_diverse.argmax()])"
      ],
      "metadata": {
        "colab": {
          "base_uri": "https://localhost:8080/"
        },
        "id": "bpNPiiKwffvd",
        "outputId": "c0deca2a-757c-4765-d79c-49a69615a3cf"
      },
      "execution_count": 22,
      "outputs": [
        {
          "output_type": "stream",
          "name": "stdout",
          "text": [
            "The most diverse writer is:  Cade Metz\n"
          ]
        }
      ]
    },
    {
      "cell_type": "markdown",
      "source": [
        "Who has highest average word count per article?"
      ],
      "metadata": {
        "id": "D8cSB3F0fooK"
      }
    },
    {
      "cell_type": "code",
      "source": [
        "df_groupby_word_mean=df_groupby.apply(lambda row: row['word_count'].mean())\n",
        "df_groupby_word_mean.index[df_groupby_word_mean.argmax()]"
      ],
      "metadata": {
        "colab": {
          "base_uri": "https://localhost:8080/",
          "height": 35
        },
        "id": "wNWJxOUBfltw",
        "outputId": "dd52a500-b7ad-4588-a23a-40be90e5b76f"
      },
      "execution_count": 23,
      "outputs": [
        {
          "output_type": "execute_result",
          "data": {
            "text/plain": [
              "'Nicholas Casey'"
            ],
            "application/vnd.google.colaboratory.intrinsic+json": {
              "type": "string"
            }
          },
          "metadata": {},
          "execution_count": 23
        }
      ]
    },
    {
      "cell_type": "markdown",
      "source": [
        "#### **VISUALIZATION** - Box Plot\n"
      ],
      "metadata": {
        "id": "uOwtjhJNft9z"
      }
    },
    {
      "cell_type": "code",
      "source": [
        "df_nyt_without_kw_2022_september['dayofweek']=df_nyt_without_kw_2022_september['pub_date'].apply(lambda x: x.dayofweek)\n",
        "boxplot_list=[]\n",
        "for int_day in range(7):\n",
        "  boxplot_list.append(df_nyt_without_kw_2022_september['word_count'][df_nyt_without_kw_2022_september['dayofweek']==int_day])\n"
      ],
      "metadata": {
        "id": "z8BQIYlRfrnF"
      },
      "execution_count": 24,
      "outputs": []
    },
    {
      "cell_type": "code",
      "source": [
        "from  matplotlib import pyplot as plt\n",
        "plt.boxplot(boxplot_list)\n",
        "plt.xticks([i for i in range(1,8,1)], \n",
        "           ['Mon','Tue','Wed','Thr','Fri','Sat','Sun'], fontsize=15)\n",
        "plt.ylabel('Word Count', fontsize=15)\n",
        "plt.show()"
      ],
      "metadata": {
        "colab": {
          "base_uri": "https://localhost:8080/",
          "height": 270
        },
        "id": "dTn0f1Hyf5Mu",
        "outputId": "e6837959-9644-4bd5-bee8-6706f5a0afab"
      },
      "execution_count": 25,
      "outputs": [
        {
          "output_type": "display_data",
          "data": {
            "text/plain": [
              "<Figure size 432x288 with 1 Axes>"
            ],
            "image/png": "[encoded data removed]"
          },
          "metadata": {
            "needs_background": "light"
          }
        }
      ]
    },
    {
      "cell_type": "code",
      "source": [],
      "metadata": {
        "id": "gGbKXRndf6wE"
      },
      "execution_count": null,
      "outputs": []
    }
  ]
}