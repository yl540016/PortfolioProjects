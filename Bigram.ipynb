{
  "nbformat": 4,
  "nbformat_minor": 0,
  "metadata": {
    "colab": {
      "provenance": [],
      "authorship_tag": "ABX9TyPifO7XwaQASB9y2IZxC0hg",
      "include_colab_link": true
    },
    "kernelspec": {
      "name": "python3",
      "display_name": "Python 3"
    },
    "language_info": {
      "name": "python"
    }
  },
  "cells": [
    {
      "cell_type": "markdown",
      "metadata": {
        "id": "view-in-github",
        "colab_type": "text"
      },
      "source": [
        "<a href=\"https://colab.research.google.com/github/yl540016/PortfolioProjects/blob/main/Bigram.ipynb\" target=\"_parent\"><img src=\"https://colab.research.google.com/assets/colab-badge.svg\" alt=\"Open In Colab\"/></a>"
      ]
    },
    {
      "cell_type": "code",
      "execution_count": 1,
      "metadata": {
        "colab": {
          "base_uri": "https://localhost:8080/",
          "height": 35
        },
        "id": "yWe48nLlWRDg",
        "outputId": "dca957fa-fd33-44f7-b30a-3ce181203b70"
      },
      "outputs": [
        {
          "output_type": "execute_result",
          "data": {
            "text/plain": [
              "'/content'"
            ],
            "application/vnd.google.colaboratory.intrinsic+json": {
              "type": "string"
            }
          },
          "metadata": {},
          "execution_count": 1
        }
      ],
      "source": [
        "import os\n",
        "from glob import glob\n",
        "os.getcwd() # current working directory"
      ]
    },
    {
      "cell_type": "code",
      "source": [
        "\n",
        "wordlist_path = './wordlist.txt'\n",
        "\n",
        "with open(wordlist_path, \"r\") as file:\n",
        "    wordlist= file.readlines()\n",
        "\n",
        "# len(wordlist)\n",
        "wordlist = list(map(lambda x: x.strip('\\n'), wordlist))"
      ],
      "metadata": {
        "id": "WaAV45jaWoOc"
      },
      "execution_count": 6,
      "outputs": []
    },
    {
      "cell_type": "code",
      "source": [
        "wordlist[:5]"
      ],
      "metadata": {
        "colab": {
          "base_uri": "https://localhost:8080/"
        },
        "id": "Ltmsk2LxWq0L",
        "outputId": "a8ea8695-1463-4d45-8a91-6d200220b054"
      },
      "execution_count": 7,
      "outputs": [
        {
          "output_type": "execute_result",
          "data": {
            "text/plain": [
              "['abacus', 'abdomen', 'abdominal', 'abide', 'abiding']"
            ]
          },
          "metadata": {},
          "execution_count": 7
        }
      ]
    },
    {
      "cell_type": "code",
      "source": [
        "# Check how many words are in the wordlist\n",
        "print(f'wordlist.txt has {len(wordlist)} words') "
      ],
      "metadata": {
        "colab": {
          "base_uri": "https://localhost:8080/"
        },
        "id": "2PpH4yi4Wr6X",
        "outputId": "0352945c-18c7-4831-8dd9-7393dd875f55"
      },
      "execution_count": 8,
      "outputs": [
        {
          "output_type": "stream",
          "name": "stdout",
          "text": [
            "wordlist.txt has 7772 words\n"
          ]
        }
      ]
    },
    {
      "cell_type": "markdown",
      "source": [
        "### **Unigram**"
      ],
      "metadata": {
        "id": "2duxjNPlX4Jn"
      }
    },
    {
      "cell_type": "code",
      "source": [
        "# Count the alphabet in each word\n",
        "alphabet_dict={'a':0, 'b':1, 'c':2, 'd':3, 'e':4,\n",
        "               'f':5, 'g':6, 'h':7, 'i':8, 'j':9,\n",
        "               'k':10, 'l':11, 'm':12, 'n':13, 'o':14,\n",
        "               'p':15, 'q':16, 'r':17, 's':18, 't':19,\n",
        "               'u':20, 'v':21, 'w':22, 'x':23, 'y':24,\n",
        "               'z':25}\n",
        "\n",
        "alphabet_count_vector=[0]*26\n",
        "for word in wordlist:\n",
        "  for char in word:\n",
        "    # for loop can be defined with a string\n",
        "    alphabet_count_vector[alphabet_dict[char]] += 1\n",
        "alphabet_count_vector"
      ],
      "metadata": {
        "colab": {
          "base_uri": "https://localhost:8080/"
        },
        "id": "c9Z2BrhLW-41",
        "outputId": "ba4c462e-4dfd-4ea7-b6ed-42a8e1d88d05"
      },
      "execution_count": 15,
      "outputs": [
        {
          "output_type": "execute_result",
          "data": {
            "text/plain": [
              "[4443,\n",
              " 1163,\n",
              " 2250,\n",
              " 2263,\n",
              " 6134,\n",
              " 885,\n",
              " 1752,\n",
              " 1239,\n",
              " 4003,\n",
              " 129,\n",
              " 655,\n",
              " 3027,\n",
              " 1452,\n",
              " 3796,\n",
              " 3153,\n",
              " 1769,\n",
              " 99,\n",
              " 4163,\n",
              " 3372,\n",
              " 3469,\n",
              " 2296,\n",
              " 738,\n",
              " 552,\n",
              " 185,\n",
              " 1145,\n",
              " 207]"
            ]
          },
          "metadata": {},
          "execution_count": 15
        }
      ]
    },
    {
      "cell_type": "markdown",
      "source": [
        "- What is the most common alphabetic letter (or unigram) in `wordlist.txt`? "
      ],
      "metadata": {
        "id": "tWB-0UHUXahg"
      }
    },
    {
      "cell_type": "code",
      "source": [
        "max(alphabet_count_vector)"
      ],
      "metadata": {
        "colab": {
          "base_uri": "https://localhost:8080/"
        },
        "id": "82QPkFJJXEB6",
        "outputId": "31fd84e2-50bb-4eef-9ed7-82cfe6893204"
      },
      "execution_count": 16,
      "outputs": [
        {
          "output_type": "execute_result",
          "data": {
            "text/plain": [
              "6134"
            ]
          },
          "metadata": {},
          "execution_count": 16
        }
      ]
    },
    {
      "cell_type": "code",
      "source": [
        "alphabet_count_vector.index(max(alphabet_count_vector))"
      ],
      "metadata": {
        "colab": {
          "base_uri": "https://localhost:8080/"
        },
        "id": "Zg32KBsBXeHA",
        "outputId": "ff7738f9-3550-42e9-e198-24591497ba36"
      },
      "execution_count": 17,
      "outputs": [
        {
          "output_type": "execute_result",
          "data": {
            "text/plain": [
              "4"
            ]
          },
          "metadata": {},
          "execution_count": 17
        }
      ]
    },
    {
      "cell_type": "code",
      "source": [
        "list(alphabet_dict.keys())[alphabet_count_vector.index(max(alphabet_count_vector))]"
      ],
      "metadata": {
        "colab": {
          "base_uri": "https://localhost:8080/",
          "height": 35
        },
        "id": "7CwCNHq2XfWn",
        "outputId": "bbd7bd06-8a9f-456f-b1b8-cfd86cdc7f10"
      },
      "execution_count": 18,
      "outputs": [
        {
          "output_type": "execute_result",
          "data": {
            "text/plain": [
              "'e'"
            ],
            "application/vnd.google.colaboratory.intrinsic+json": {
              "type": "string"
            }
          },
          "metadata": {},
          "execution_count": 18
        }
      ]
    },
    {
      "cell_type": "markdown",
      "source": [
        "Find the five most common alphabetic characters in the `wordlist.txt`"
      ],
      "metadata": {
        "id": "l5gmsXM6Xi7S"
      }
    },
    {
      "cell_type": "code",
      "source": [
        "five_most_counts=sorted(alphabet_count_vector)[::-1][:5]"
      ],
      "metadata": {
        "id": "8gZBWrtKXggw"
      },
      "execution_count": 19,
      "outputs": []
    },
    {
      "cell_type": "code",
      "source": [
        "for count in five_most_counts:\n",
        "  print(list(alphabet_dict.keys())[alphabet_count_vector.index(count)])"
      ],
      "metadata": {
        "colab": {
          "base_uri": "https://localhost:8080/"
        },
        "id": "QllAAFPzXolL",
        "outputId": "5195122c-9c80-4c1f-a711-5754bc02e501"
      },
      "execution_count": 20,
      "outputs": [
        {
          "output_type": "stream",
          "name": "stdout",
          "text": [
            "e\n",
            "a\n",
            "r\n",
            "i\n",
            "n\n"
          ]
        }
      ]
    },
    {
      "cell_type": "code",
      "source": [
        "# Implementation with python dictionary\n",
        "alphabet_count_dict={}\n",
        "for word in wordlist:\n",
        "  for char in word:\n",
        "    alphabet_count_dict[char] = alphabet_count_dict.get(char, 0) + 1\n",
        "alphabet_count_dict.items()"
      ],
      "metadata": {
        "colab": {
          "base_uri": "https://localhost:8080/"
        },
        "id": "CrWRTPJgXp_t",
        "outputId": "efb51047-86d4-4154-f14c-31b928b75ce8"
      },
      "execution_count": 21,
      "outputs": [
        {
          "output_type": "execute_result",
          "data": {
            "text/plain": [
              "dict_items([('a', 4443), ('b', 1163), ('c', 2250), ('u', 2296), ('s', 3372), ('d', 2263), ('o', 3153), ('m', 1452), ('e', 6134), ('n', 3796), ('i', 4003), ('l', 3027), ('g', 1752), ('t', 3469), ('y', 1145), ('z', 207), ('r', 4163), ('v', 738), ('p', 1769), ('h', 1239), ('q', 99), ('f', 885), ('x', 185), ('w', 552), ('j', 129), ('k', 655)])"
            ]
          },
          "metadata": {},
          "execution_count": 21
        }
      ]
    },
    {
      "cell_type": "code",
      "source": [
        "# Create frequency list\n",
        "frequency_list = list(alphabet_count_dict.values())\n",
        "frequency_list"
      ],
      "metadata": {
        "colab": {
          "base_uri": "https://localhost:8080/"
        },
        "id": "aD50PHU_Xufy",
        "outputId": "48a4b45e-e31f-4a47-bdf8-440756b2f43c"
      },
      "execution_count": 22,
      "outputs": [
        {
          "output_type": "execute_result",
          "data": {
            "text/plain": [
              "[4443,\n",
              " 1163,\n",
              " 2250,\n",
              " 2296,\n",
              " 3372,\n",
              " 2263,\n",
              " 3153,\n",
              " 1452,\n",
              " 6134,\n",
              " 3796,\n",
              " 4003,\n",
              " 3027,\n",
              " 1752,\n",
              " 3469,\n",
              " 1145,\n",
              " 207,\n",
              " 4163,\n",
              " 738,\n",
              " 1769,\n",
              " 1239,\n",
              " 99,\n",
              " 885,\n",
              " 185,\n",
              " 552,\n",
              " 129,\n",
              " 655]"
            ]
          },
          "metadata": {},
          "execution_count": 22
        }
      ]
    },
    {
      "cell_type": "markdown",
      "source": [
        "## **Extending it to a Bigram**"
      ],
      "metadata": {
        "id": "2gumk6S4XzfX"
      }
    },
    {
      "cell_type": "code",
      "source": [
        "'''\n",
        "Create a Python dictionary called bi_dict \n",
        "such that each key in the dictionary represents a bi-gram and the associated value indicates the total counts in our word_list.\n",
        "'''\n",
        "\n",
        "\n",
        "# create a python dict\n",
        "bi_dict = {}\n",
        "\n",
        "#2) s.t. each key in the dict represents a bigram\n",
        "# and the associated value indicates the total counts in wordlist\n",
        "\n",
        "for word in wordlist:\n",
        "    for i in range(len(word)-1):\n",
        "        key = word[i] + word[i+1]\n",
        "        bi_dict[key] = bi_dict.get(key, 0) +1\n",
        "    "
      ],
      "metadata": {
        "id": "WL3MeVOeXxbY"
      },
      "execution_count": 23,
      "outputs": []
    },
    {
      "cell_type": "code",
      "source": [
        "bi_dict"
      ],
      "metadata": {
        "id": "KWObg7nZYIwt"
      },
      "execution_count": null,
      "outputs": []
    },
    {
      "cell_type": "markdown",
      "source": [
        "Creating a list of tuples for the five most frequent bi-grams"
      ],
      "metadata": {
        "id": "RlD-D-FTYQiF"
      }
    },
    {
      "cell_type": "code",
      "source": [
        "five_most_list = sorted(bi_dict.items(), key=lambda x: x[1], reverse=True)[:5]\n",
        "five_most_list"
      ],
      "metadata": {
        "colab": {
          "base_uri": "https://localhost:8080/"
        },
        "id": "a3_vQ7IuYLM7",
        "outputId": "8f49e49f-36ca-4c6b-b16f-4b01809d739a"
      },
      "execution_count": 25,
      "outputs": [
        {
          "output_type": "execute_result",
          "data": {
            "text/plain": [
              "[('in', 1102), ('er', 963), ('re', 849), ('ng', 789), ('le', 644)]"
            ]
          },
          "metadata": {},
          "execution_count": 25
        }
      ]
    },
    {
      "cell_type": "code",
      "source": [
        "|"
      ],
      "metadata": {
        "id": "uwjlQdyJYWM1"
      },
      "execution_count": null,
      "outputs": []
    }
  ]
}